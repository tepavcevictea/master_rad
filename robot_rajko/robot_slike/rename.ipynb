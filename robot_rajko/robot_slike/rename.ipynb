{
 "cells": [
  {
   "cell_type": "code",
   "execution_count": 4,
   "metadata": {},
   "outputs": [
    {
     "name": "stdout",
     "output_type": "stream",
     "text": [
      "Renamed: cast_def_0_30.png -> cast_def_0_0.png\n",
      "Renamed: cast_def_0_31.png -> cast_def_0_1.png\n",
      "Renamed: cast_def_0_32.png -> cast_def_0_2.png\n",
      "Renamed: cast_def_0_33.png -> cast_def_0_3.png\n",
      "Renamed: cast_def_0_34.png -> cast_def_0_4.png\n",
      "Renamed: cast_def_0_35.png -> cast_def_0_5.png\n",
      "Renamed: cast_def_0_36.png -> cast_def_0_6.png\n",
      "Renamed: cast_def_0_37.png -> cast_def_0_7.png\n",
      "Renamed: cast_def_0_38.png -> cast_def_0_8.png\n",
      "Renamed: cast_def_0_39.png -> cast_def_0_9.png\n",
      "Renamed: cast_def_0_40.png -> cast_def_0_10.png\n",
      "Renamed: cast_def_0_41.png -> cast_def_0_11.png\n",
      "Renamed: cast_def_0_42.png -> cast_def_0_12.png\n",
      "Renamed: cast_def_0_43.png -> cast_def_0_13.png\n",
      "Renamed: cast_def_0_44.png -> cast_def_0_14.png\n",
      "Renamed: cast_def_0_45.png -> cast_def_0_15.png\n",
      "Renamed: cast_def_0_46.png -> cast_def_0_16.png\n",
      "Renamed: cast_def_0_47.png -> cast_def_0_17.png\n",
      "Renamed: cast_def_0_48.png -> cast_def_0_18.png\n",
      "Renamed: cast_def_0_49.png -> cast_def_0_19.png\n",
      "Renamed: cast_def_0_50.png -> cast_def_0_20.png\n",
      "Renamed: cast_def_0_51.png -> cast_def_0_21.png\n",
      "Renamed: cast_def_0_52.png -> cast_def_0_22.png\n",
      "Renamed: cast_def_0_53.png -> cast_def_0_23.png\n",
      "Renamed: cast_def_0_54.png -> cast_def_0_24.png\n",
      "Renamed: cast_def_0_55.png -> cast_def_0_25.png\n",
      "Renamed: cast_def_0_56.png -> cast_def_0_26.png\n",
      "Renamed: cast_def_0_57.png -> cast_def_0_27.png\n",
      "Renamed: cast_def_0_58.png -> cast_def_0_28.png\n",
      "Renamed: cast_def_0_59.png -> cast_def_0_29.png\n",
      "Renamed: cast_def_0_60.png -> cast_def_0_30.png\n",
      "Renamed: cast_def_0_61.png -> cast_def_0_31.png\n",
      "Renamed: cast_def_0_62.png -> cast_def_0_32.png\n",
      "Renamed: cast_def_0_63.png -> cast_def_0_33.png\n",
      "Renamed: cast_def_0_64.png -> cast_def_0_34.png\n",
      "Renamed: cast_def_0_65.png -> cast_def_0_35.png\n",
      "Renamed: cast_def_0_66.png -> cast_def_0_36.png\n",
      "Renamed: cast_def_0_67.png -> cast_def_0_37.png\n",
      "Renaming complete!\n"
     ]
    }
   ],
   "source": [
    "import os\n",
    "\n",
    "# Renaming images\n",
    "for i in range(30, 68):\n",
    "    # Original file name\n",
    "    old_name = f\"cast_def_0_{i}.png\"\n",
    "    # New file name\n",
    "    new_name = f\"cast_def_0_{i - 30}.png\"\n",
    "    \n",
    "    # Rename the file\n",
    "    os.rename(old_name, new_name)\n",
    "    print(f\"Renamed: {old_name} -> {new_name}\")\n",
    "\n",
    "print(\"Renaming complete!\")"
   ]
  },
  {
   "cell_type": "code",
   "execution_count": 5,
   "metadata": {},
   "outputs": [
    {
     "name": "stdout",
     "output_type": "stream",
     "text": [
      "Slike su podeljene: 48 u train, 20 u test.\n"
     ]
    }
   ],
   "source": [
    "import shutil\n",
    "import random\n",
    "\n",
    "# Direktorijum\n",
    "source_dir = os.getcwd()  # Trenutni direktorijum sa slikama\n",
    "train_dir = os.path.join(source_dir, 'train')\n",
    "test_dir = os.path.join(source_dir, 'test')\n",
    "\n",
    "# Kreiranje direktorijuma train i test ako već ne postoje\n",
    "os.makedirs(train_dir, exist_ok=True)\n",
    "os.makedirs(test_dir, exist_ok=True)\n",
    "\n",
    "# Lista svih PNG slika u direktorijumu\n",
    "image_files = [f for f in os.listdir(source_dir) if f.endswith('.png')]\n",
    "\n",
    "# Mešanje liste slika radi nasumičnosti\n",
    "random.shuffle(image_files)\n",
    "\n",
    "# Računanje broja slika koje će ići u test set (30%)\n",
    "test_size = int(len(image_files) * 0.3)\n",
    "\n",
    "# Deljenje slika na test i train setove\n",
    "test_images = image_files[:test_size]\n",
    "train_images = image_files[test_size:]\n",
    "\n",
    "# Premeštanje fajlova u odgovarajuće direktorijume\n",
    "for img in train_images:\n",
    "    shutil.move(os.path.join(source_dir, img), os.path.join(train_dir, img))\n",
    "\n",
    "for img in test_images:\n",
    "    shutil.move(os.path.join(source_dir, img), os.path.join(test_dir, img))\n",
    "\n",
    "print(f\"Slike su podeljene: {len(train_images)} u train, {len(test_images)} u test.\")"
   ]
  }
 ],
 "metadata": {
  "kernelspec": {
   "display_name": ".master",
   "language": "python",
   "name": "python3"
  },
  "language_info": {
   "codemirror_mode": {
    "name": "ipython",
    "version": 3
   },
   "file_extension": ".py",
   "mimetype": "text/x-python",
   "name": "python",
   "nbconvert_exporter": "python",
   "pygments_lexer": "ipython3",
   "version": "3.10.12"
  }
 },
 "nbformat": 4,
 "nbformat_minor": 2
}
